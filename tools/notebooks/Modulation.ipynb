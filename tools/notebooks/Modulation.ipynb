{
 "cells": [
  {
   "cell_type": "code",
   "execution_count": null,
   "metadata": {},
   "outputs": [],
   "source": [
    "%matplotlib notebook\n",
    "import sys\n",
    "sys.path.insert(0, '..')\n",
    "\n",
    "import math\n",
    "import matplotlib as mp\n",
    "import matplotlib.pyplot as plt\n",
    "import numpy as np\n",
    "import scipy.signal\n",
    "\n",
    "import dragonradio.liquid\n",
    "import dragonradio.packet\n",
    "from dragonradio.tools.modem import *\n",
    "from dragonradio.tools.plot.radio import PSDPlot"
   ]
  },
  {
   "cell_type": "code",
   "execution_count": null,
   "metadata": {},
   "outputs": [],
   "source": [
    "# Sampling frequency\n",
    "Fs = 10e6\n",
    "\n",
    "# Channel bandwidth\n",
    "cbw = 1e6"
   ]
  },
  {
   "cell_type": "code",
   "execution_count": null,
   "metadata": {},
   "outputs": [],
   "source": [
    "# Modulate first packet\n",
    "hdr1 = dragonradio.packet.Header(1, 2, 0)\n",
    "mcs1 = dragonradio.liquid.MCS('crc32', 'none', 'v27', 'bpsk')\n",
    "\n",
    "# Center frequency shift\n",
    "fc1 = 1e6\n",
    "\n",
    "payload1 = b'0' * 1500\n",
    "\n",
    "sig1 = modulateMix(hdr1, mcs1, payload1, cbw, fc1, Fs)\n",
    "\n",
    "# Plot PSD of combined signal\n",
    "fig = PSDPlot(*plt.subplots(), nfft=1024)\n",
    "fig.plot(Fs, sig1)"
   ]
  },
  {
   "cell_type": "code",
   "execution_count": null,
   "metadata": {},
   "outputs": [],
   "source": [
    "# Demodulate first packet\n",
    "demodulateMix(sig1, cbw, fc1, Fs)"
   ]
  },
  {
   "cell_type": "code",
   "execution_count": null,
   "metadata": {},
   "outputs": [],
   "source": [
    "# Modulate second packet\n",
    "hdr2 = dragonradio.packet.Header(2, 1, 0)\n",
    "mcs2 = dragonradio.liquid.MCS('crc32', 'rs8', 'none', 'qam256')\n",
    "\n",
    "# Center frequency shift\n",
    "fc2 = 2e6\n",
    "\n",
    "payload2 = b'0' * 1500\n",
    "\n",
    "sig2 = modulateMix(hdr2, mcs2, payload2, cbw, fc2, Fs)\n",
    "\n",
    "# Plot PSD of combined signal\n",
    "fig = PSDPlot(*plt.subplots(), nfft=1024)\n",
    "fig.plot(Fs, sig2)"
   ]
  },
  {
   "cell_type": "code",
   "execution_count": null,
   "metadata": {},
   "outputs": [],
   "source": [
    "# Demodulate second packet\n",
    "demodulateMix(sig2, cbw, fc2, Fs)"
   ]
  }
 ],
 "metadata": {
  "kernelspec": {
   "display_name": "Python 3 (ipykernel)",
   "language": "python",
   "name": "python3"
  },
  "language_info": {
   "codemirror_mode": {
    "name": "ipython",
    "version": 3
   },
   "file_extension": ".py",
   "mimetype": "text/x-python",
   "name": "python",
   "nbconvert_exporter": "python",
   "pygments_lexer": "ipython3",
   "version": "3.8.10"
  }
 },
 "nbformat": 4,
 "nbformat_minor": 2
}
